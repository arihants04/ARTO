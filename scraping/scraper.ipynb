{
 "cells": [
  {
   "cell_type": "code",
   "execution_count": 122,
   "id": "30810241-57d1-4bad-94a7-be08508983a3",
   "metadata": {},
   "outputs": [],
   "source": [
    "#page\n",
    "import json\n",
    "from time import sleep\n",
    "\n",
    "from bs4 import BeautifulSoup as bs\n",
    "import requests as rs\n",
    "from datetime import datetime\n",
    "from IPython.display import clear_output\n",
    "\n",
    "import pickle\n",
    "import json"
   ]
  },
  {
   "cell_type": "code",
   "execution_count": 14,
   "id": "55205abe-b705-41ea-b7bb-06193a7e5f1b",
   "metadata": {},
   "outputs": [],
   "source": [
    "URL = \"https://www.barrons.com/search?query=Nvidia&page=\"\n",
    "\n",
    "header = {'User-Agent':'Mozilla/5.0 (X11; Linux x86_64) AppleWebKit/537.36 (KHTML, like Gecko) Chrome/117.0.0.0 Safari/537.36',\n",
    "          'Accept-Language':'en-US,en;q=0.6',\n",
    "          'Accept':'text/html,application/xhtml+xml,application/xml;q=0.9,image/avif,image/webp,image/apng,*/*;q=0.8'}\n",
    "fin_arr = {}\n"
   ]
  },
  {
   "cell_type": "code",
   "execution_count": 15,
   "id": "b65ec07c-86de-4cde-97f1-3a4de7abc7d1",
   "metadata": {},
   "outputs": [],
   "source": [
    "TICKERS = [\"NVDA\", \"NFLX\", \"TSLA\", \"APPL\", \"TWTR\"]"
   ]
  },
  {
   "cell_type": "code",
   "execution_count": 21,
   "id": "047d476d-9841-43d1-b104-48e01beb8e74",
   "metadata": {},
   "outputs": [],
   "source": [
    "\"\"\"page=rs.get(URL+str(20), headers=header)   \n",
    "soup=bs(page.content, \"html.parser\")\n",
    "arr = {}\n",
    "\n",
    "\n",
    "for wack in soup.find_all(\"article\"):\n",
    "        head = wack.contents[0].contents\n",
    "        \n",
    "        title = head[2].text\n",
    "        blurb = head[3].text\n",
    "\n",
    "        \n",
    "        try:\n",
    "            date = head[4].contents[2].text\n",
    "        except IndexError:\n",
    "            date = ''\n",
    "        #process date to 10/31/23 format\n",
    "        if len(date.strip()) > 0:\n",
    "            date = datetime.strptime(date, \"%b %d, %Y\").strftime(\"%m/%d/%y\")\n",
    "        else:\n",
    "            print(wack)\n",
    "\n",
    "            continue\n",
    "        \n",
    "        arr[title] = {\"blurb\":blurb, \"date\":date}"
   ]
  },
  {
   "cell_type": "code",
   "execution_count": 46,
   "id": "463ab00e-5b51-462e-aa47-9919564865c7",
   "metadata": {},
   "outputs": [
    {
     "name": "stdout",
     "output_type": "stream",
     "text": [
      "yep\n",
      "Netflix, Microsoft, and More. Here Are the Top and Bottom Stock Performers for October.\n",
      "Disney Is Buying Comcast's Hulu Stake. The Price is TBD. \n",
      "Netflix’s Remarkable Shift From Growth to Profits\n",
      "Apple Is Raising Subscription Prices. There Could Be More Where That Came From.\n",
      "How Netflix Won Over Wall Street.\n",
      "Tesla, Netflix, AT&T, Discover, Genuine Parts, Union Pacific, and More Stock Market Movers\n",
      "Netflix Stock Surges on Subscriber Beat. Price Hikes Return.\n",
      " Oct 19, 2023 \n",
      "Halloween Just Won't Be the Same Because of the Actors Strike\n",
      "Elon Musk Takes Aim at Powell Over Rates. Why Tesla Has Bigger Problems.\n",
      " Oct 18, 2023 \n",
      "Technology Earnings Are on Tap. Why AI Is Now a Real Threat.\n",
      " Oct 19, 2023 \n",
      "Netflix Earnings Are Coming. Why One Bull Trimmed His View on the Stock.\n",
      "A Terrible Day for Tech. Why a Chip Stock Is to Blame.\n",
      " Oct 18, 2023 \n",
      "Tech Stocks Look Cheap. Earnings May Fuel Decent Gains. \n",
      " Oct 16, 2023 \n",
      " Adam ClarkOct 19, 2023 \n",
      "Stocks Are Poised to Rise Monday\n"
     ]
    },
    {
     "data": {
      "text/plain": [
       "0"
      ]
     },
     "execution_count": 46,
     "metadata": {},
     "output_type": "execute_result"
    }
   ],
   "source": [
    "arr = {}\n",
    "URL = \"https://www.barrons.com/search?query=Netflix&quotequery=nflx&search_keywords=Netflix&search_statement_type=typed&page=\"\n",
    "fin_page = 1\n",
    "for i in range(1, fin_page+1):\n",
    "    print(\"yep\")\n",
    "    #clear_output(wait=True)\n",
    "    page=rs.get(URL+str(i), headers=header)\n",
    "\n",
    "    if page.status_code != 200:\n",
    "        print(\"FAILED TO 200 AT PAGE \" + str(i))\n",
    "\n",
    "        break\n",
    "\n",
    "    soup=bs(page.content, \"html.parser\")\n",
    "    \n",
    "    for wack in soup.find_all(\"article\"):\n",
    "        head = wack.contents[0].contents\n",
    "        \n",
    "        title = head[2].text\n",
    "        print(title)\n",
    "        \"\"\"\n",
    "        blurb = head[3].text\n",
    "        \n",
    "        try:\n",
    "            date = head[4].contents[2].text\n",
    "    \n",
    "            #process date to 10/31/23 format\n",
    "            date = datetime.strptime(date, \"%b %d, %Y\").strftime(\"%m/%d/%y\")\n",
    "        except:\n",
    "            continue\n",
    "        \"\"\"\n",
    "\n",
    "        #arr[title] = {\"blurb\":blurb, \"date\":date}\n",
    "\n",
    "    #print(f'page {i} of {fin_page} done')\n",
    "len(arr)"
   ]
  },
  {
   "cell_type": "code",
   "execution_count": null,
   "id": "f9d90c2a-4267-4227-be22-e1ec6fc43007",
   "metadata": {},
   "outputs": [],
   "source": [
    "with open('output.txt', 'w') as filehandle:\n",
    "    json.dump(arr, filehandle)"
   ]
  },
  {
   "cell_type": "code",
   "execution_count": null,
   "id": "d22ede1e-e736-46aa-8002-8dd341090d30",
   "metadata": {},
   "outputs": [],
   "source": [
    "###SCRAPE MOTLEY CRUE\n",
    "#ensure that this doesnt get run when i dumbly hit run all\n",
    "print(\"hello\" + 1)"
   ]
  },
  {
   "cell_type": "code",
   "execution_count": null,
   "id": "66b12396-da7e-44f3-9f96-67a4c70e9f12",
   "metadata": {},
   "outputs": [],
   "source": [
    "(arr)"
   ]
  },
  {
   "cell_type": "code",
   "execution_count": 157,
   "id": "2a1820c3-cfee-4e83-8137-b01dca264f17",
   "metadata": {},
   "outputs": [],
   "source": [
    "###TIME FOR MOTLEY FOOL\n",
    "URL = \"https://www.fool.com/dubs/ajax/quote/articles_by_page/224257/news?per_page=200&page=\"\n"
   ]
  },
  {
   "cell_type": "code",
   "execution_count": null,
   "id": "55215688-3560-4d42-915d-952b785969d1",
   "metadata": {},
   "outputs": [],
   "source": [
    "\"\"\"\n",
    "page=rs.get(URL+str(1), headers=header)\n",
    "\n",
    "\n",
    "wow = bs(str(page.content)[12:], \"html.parser\").find_all(\"h3\")\n",
    "title = wow[19].text\n",
    "date = wow[30].next_sibling.next_sibling.text.split(\"|\")[1].strip()[:12]\n",
    "blurb = wow[0].next_sibling.next_sibling.next_sibling.next_sibling.text\n",
    "title, date, blurb"
   ]
  },
  {
   "cell_type": "code",
   "execution_count": 98,
   "id": "2b5c1939-1938-4fd0-ad83-1ba7c6063759",
   "metadata": {},
   "outputs": [],
   "source": [
    "USER_AGENTS = [\n",
    "'Mozilla/5.0 (X11; Linux x86_64) AppleWebKit/537.36 (KHTML, like Gecko) Chrome/117.0.0.0 Safari/537.36',\n",
    "\"Mozilla/5.0 (Windows NT 10.0; Win64; x64) AppleWebKit/537.36 (KHTML, like Gecko) Chrome/97.0.4692.99 Safari/537.36 RuxitSynthetic/1.0 v3354343621363381396 t8646960521424951175 ath1fb31b7a altpriv cvcv=2 smf=0\",\n",
    "\"Mozilla/5.0 (X11; Linux x86_64) AppleWebKit/537.36 (KHTML, like Gecko) Chrome/97.0.4692.99 Safari/537.36 RuxitSynthetic/1.0 v3909236107942299828 t2540387454406271237 ath5ee645e0 altpriv cvcv=2 smf=0\",\n",
    "\"Mozilla/5.0 (X11; Linux x86_64) AppleWebKit/537.36 (KHTML, like Gecko) Chrome/96.0.4664.110 Safari/537.36 RuxitSynthetic/1.0 v7816907984657836586 t693236378419049649 ath2653ab72 altpriv cvcv=2 smf=0\",\n",
    "\"Mozilla/5.0 (X11; Linux x86_64) AppleWebKit/537.36 (KHTML, like Gecko) Chrome/97.0.4692.99 Safari/537.36 RuxitSynthetic/1.0 v9192842749808170135 t3074998139696853642 ath5ee645e0 altpriv cvcv=2 smf=0\",\n",
    "\"Mozilla/5.0 (X11; Linux x86_64) AppleWebKit/537.36 (KHTML, like Gecko) Chrome/97.0.4692.99 Safari/537.36 RuxitSynthetic/1.0 v16265295308 t1550505289475692797 athfa3c3975 altpub cvcv=2 smf=0\",\n",
    "\"Mozilla/5.0 (X11; Linux x86_64) AppleWebKit/537.36 (KHTML, like Gecko) Chrome/97.0.4692.71 Safari/537.36 RuxitSynthetic/1.0 v3280154125884203362 t9179215883135283671 ath5ee645e0 altpriv cvcv=2 smf=0\",\n",
    "\"Mozilla/5.0 (X11; Linux x86_64) AppleWebKit/537.36 (KHTML, like Gecko) Chrome/91.0.4472.77 Safari/537.36 RuxitSynthetic/1.0 v4441400360535155085 t6168693760763928965 ath93eb305d altpriv cvcv=2 smf=0\",\n",
    "\"Mozilla/5.0 (X11; Linux x86_64) AppleWebKit/537.36 (KHTML, like Gecko) Chrome/90.0.4430.72 Safari/537.36 RuxitSynthetic/1.0 v1091298649824927471 t6253337161060508374 ath259cea6f altpriv cvcv=2 smf=0\",\n",
    "\"Mozilla/5.0 (Windows NT 10.0; Win64; x64) AppleWebKit/537.36 (KHTML, like Gecko) Chrome/97.0.4692.99 Safari/537.36 RuxitSynthetic/1.0 v1303285261941569910 t4177459593995306704 ath1fb31b7a altpriv cvcv=2 smf=0\",\n",
    "\"Mozilla/5.0 (X11; Linux x86_64) AppleWebKit/537.36 (KHTML, like Gecko) Chrome/96.0.4664.110 Safari/537.36 RuxitSynthetic/1.0 v8355146700495819625 t5238583220707176387 athe94ac249 altpriv cvcv=2 smf=0\",\n",
    "\"Mozilla/5.0 (X11; Ubuntu; Linux x86_64) AppleWebKit/537.36 (KHTML, like Gecko) Chrome/80.0.3987.87 Safari/537.36 RuxitSynthetic/1.0 v6701698063173488653 t4157550440124640339\",\n",
    "\"Mozilla/5.0 (X11; Ubuntu; Linux x86_64) AppleWebKit/537.36 (KHTML, like Gecko) Chrome/78.0.3904.108 Safari/537.36 RuxitSynthetic/1.0 v4447773157651375593 t7889551165227354132\",\n",
    "\"Mozilla/5.0 (X11; Ubuntu; Linux x86_64) AppleWebKit/537.36 (KHTML, like Gecko) Chrome/80.0.3987.87 Safari/537.36 RuxitSynthetic/1.0 v2040998106779777180 t6281935149377429786\",\n",
    "\"Mozilla/5.0 (X11; Ubuntu; Linux x86_64) AppleWebKit/537.36 (KHTML, like Gecko) Chrome/78.0.3904.108 Safari/537.36 RuxitSynthetic/1.0 v4222484276428847696 t4157550440124640339\",\n",
    "\"Mozilla/5.0 (X11; Ubuntu; Linux x86_64) AppleWebKit/537.36 (KHTML, like Gecko) Chrome/80.0.3987.87 Safari/537.36 RuxitSynthetic/1.0 v6704444461084046026 t1191530496833852085\",\n",
    "\"Mozilla/5.0 (X11; Ubuntu; Linux x86_64) AppleWebKit/537.36 (KHTML, like Gecko) Chrome/78.0.3904.108 Safari/537.36 RuxitSynthetic/1.0 v4895707991071880398 t1191530496833852085\",\n",
    "\"Mozilla/5.0 (X11; Ubuntu; Linux x86_64) AppleWebKit/537.36 (KHTML, like Gecko) Chrome/80.0.3987.87 Safari/537.36 RuxitSynthetic/1.0 v2088879675269074389 t1236787695256497497\",\n",
    "\"Mozilla/5.0 (X11; Ubuntu; Linux x86_64) AppleWebKit/537.36 (KHTML, like Gecko) Chrome/80.0.3987.87 Safari/537.36 RuxitSynthetic/1.0 v7036122353978791127 t6281935149377429786\",\n",
    "\"Mozilla/5.0 (X11; Ubuntu; Linux x86_64) AppleWebKit/537.36 (KHTML, like Gecko) Chrome/78.0.3904.108 Safari/537.36 RuxitSynthetic/1.0 v6071464494679554240 t1236787695256497497\",\n",
    "\"Mozilla/5.0 (X11; Ubuntu; Linux x86_64) AppleWebKit/537.36 (KHTML, like Gecko) Chrome/80.0.3987.87 Safari/537.36 RuxitSynthetic/1.0 v4758254329434142219 t6331743126571670211\",\n",
    "\"Mozilla/5.0 (Linux; Android 9; HiSmartTV A4 Build/PTMR.190127.037; wv) AppleWebKit/537.36 (KHTML, like Gecko) Version/4.0 Chrome/115.0.5790.166 Mobile Safari/537.36\",\n",
    "\"Mozilla/5.0 (Linux; Android 11; SM-A305GT Build/RP1A.200720.012; wv) AppleWebKit/537.36 (KHTML, like Gecko) Version/4.0 Chrome/115.0.5790.166 Mobile Safari/537.36 Replaio/3.1.9\",\n",
    "\"Mozilla/5.0 (Linux; Android 11; SM-A022M Build/RP1A.200720.012; wv) AppleWebKit/537.36 (KHTML, like Gecko) Version/4.0 Chrome/115.0.5790.166 Mobile Safari/537.36\",\n",
    "\"Mozilla/5.0 (Linux; Android 13; 2212ARNC4L Build/TP1A.220624.014; wv) AppleWebKit/537.36 (KHTML, like Gecko) Version/4.0 Chrome/115.0.5790.177 Mobile Safari/537.36 [FB_IAB/FB4A;FBAV/427.0.0.31.63;]\",\n",
    "\"Mozilla/5.0 (Linux; Android 13; V2110 Build/TP1A.220624.014; wv) AppleWebKit/537.36 (KHTML, like Gecko) Version/4.0 Chrome/115.0.5790.138 Mobile Safari/537.36\",\n",
    "\"Mozilla/5.0 (Linux; Android 9; SM-J330FN Build/PPR1.180610.011; wv) AppleWebKit/537.36 (KHTML, like Gecko) Version/4.0 Chrome/74.0.3729.136 Mobile Safari/537.36 [FB_IAB/FB4A;FBAV/369.0.0.18.103;]\",\n",
    "\"Mozilla/5.0 (Windows NT 10.0; Win64; x64) AppleWebKit/537.36 (KHTML, like Gecko) Chrome/115.0.0.0 Safari/537.36 Viewer/93.9.7678.79\",\n",
    "\"Mozilla/5.0 (Linux; Android 11; M2006C3LVG Build/RP1A.200720.011; wv) AppleWebKit/537.36 (KHTML, like Gecko) Version/4.0 Chrome/115.0.5790.166 Mobile Safari/537.36 [FB_IAB/FB4A;FBAV/427.0.0.31.63;]\"\n",
    "]"
   ]
  },
  {
   "cell_type": "code",
   "execution_count": 169,
   "id": "93563e19-9932-4078-8ad4-8e640dd6ca9f",
   "metadata": {},
   "outputs": [
    {
     "name": "stdout",
     "output_type": "stream",
     "text": [
      "page 1 of 3 done\n",
      "100\n",
      "89\n",
      "page 2 of 3 done\n",
      "100\n",
      "181\n",
      "page 3 of 3 done\n",
      "100\n",
      "277\n"
     ]
    }
   ],
   "source": [
    "URL = \"https://www.fool.com/dubs/ajax/quote/articles_by_page/273426/news?per_page=200&page=\"\n",
    "\n",
    "ua = USER_AGENTS[23]\n",
    "header = {'User-Agent':ua,\n",
    "          'Accept-Language':'en-US,en;q=0.6',\n",
    "          'Accept':'text/html,application/xhtml+xml,application/xml;q=0.9,image/avif,image/webp,image/apng,*/*;q=0.8'}\n",
    "fin_page = 3\n",
    "arr = {}\n",
    "for i in range(1, fin_page+1):\n",
    "    #clear_output(wait=True)\n",
    "\n",
    "    page=rs.get(URL+str(i), headers=header)\n",
    "\n",
    "    if page.status_code != 200:\n",
    "        #print(f\"FAILED TO 200 AT PAGE {i} with a {page.status_code}\")\n",
    "        #break\n",
    "        ua = USER_AGENTS[21]\n",
    "        header = {'User-Agent':ua,\n",
    "          'Accept-Language':'en-US,en;q=0.6',\n",
    "          'Accept':'text/html,application/xhtml+xml,application/xml;q=0.9,image/avif,image/webp,image/apng,*/*;q=0.8'}\n",
    "        page=rs.get(URL+str(i), headers=header)\n",
    "        \n",
    "    if page.status_code != 200:\n",
    "        #print(f\"FAILED TO 200 AT PAGE {i} with a {page.status_code}\")\n",
    "        #break\n",
    "        ua = USER_AGENTS[15]\n",
    "        header = {'User-Agent':ua,\n",
    "          'Accept-Language':'en-US,en;q=0.6',\n",
    "          'Accept':'text/html,application/xhtml+xml,application/xml;q=0.9,image/avif,image/webp,image/apng,*/*;q=0.8'}\n",
    "        page=rs.get(URL+str(i), headers=header)\n",
    "        print(\"uh oh\")\n",
    "    if page.status_code != 200:\n",
    "        break\n",
    "\n",
    "    wow = bs(str(page.content)[12:], \"html.parser\").find_all(\"h3\")\n",
    "\n",
    "    for j in range(0,len(wow)-1):\n",
    "        try:\n",
    "            title = wow[j].text\n",
    "            date = wow[j].next_sibling.next_sibling.text.split(\"|\")[1].strip()[:12]\n",
    "            blurb = wow[j].next_sibling.next_sibling.next_sibling.next_sibling.text\n",
    "            arr[title] = {'blurb':blurb, 'date':date}\n",
    "        except:\n",
    "            continue\n",
    "            \n",
    "    print(f'page {i} of {fin_page} done')\n",
    "\n",
    "    print(len(wow))\n",
    "    print(len(arr.keys()))\n",
    "    \n"
   ]
  },
  {
   "cell_type": "code",
   "execution_count": null,
   "id": "d129ecd0-d1e0-4248-9890-69c59d450f37",
   "metadata": {},
   "outputs": [],
   "source": [
    "\"\"\"\n",
    "page=rs.get(URL+str(1), headers=header)\n",
    "wow = bs(str(page.content)[12:], \"html.parser\").find_all(\"h3\")\n",
    "\n",
    "\n",
    "arr2 = {}\n",
    "for j in range(0,len(wow)):\n",
    "        try:\n",
    "            title = wow[j].text\n",
    "            date = wow[j].next_sibling.next_sibling.text.split(\"|\")[1].strip()[:12]\n",
    "            blurb = wow[j].next_sibling.next_sibling.next_sibling.next_sibling.text\n",
    "            arr2[title] = {'blurb':blurb, 'date':date}\n",
    "        except:\n",
    "            continue"
   ]
  },
  {
   "cell_type": "code",
   "execution_count": null,
   "id": "1c7ede75-9266-42d7-b8ba-a4a9a8c5fce3",
   "metadata": {},
   "outputs": [],
   "source": [
    "arr"
   ]
  },
  {
   "cell_type": "code",
   "execution_count": 170,
   "id": "80eb23b3-9aa4-4858-bc54-3ae6326ccd13",
   "metadata": {},
   "outputs": [],
   "source": [
    "for i in arr.keys():\n",
    "    bruh = arr[i]['date']\n",
    "    if bruh[-1] == '\\\\':\n",
    "        arr[i]['date'] = bruh[:-1]"
   ]
  },
  {
   "cell_type": "code",
   "execution_count": 171,
   "id": "36cae687-c073-4d1e-b935-435f316c8646",
   "metadata": {},
   "outputs": [],
   "source": [
    "\n",
    "with open('meta.pkl', 'wb') as f:\n",
    "    pickle.dump(arr, f)\n"
   ]
  },
  {
   "cell_type": "code",
   "execution_count": null,
   "id": "06ce605a-74e6-4121-a211-8d81e2dbfacb",
   "metadata": {},
   "outputs": [],
   "source": [
    "arr.keys()"
   ]
  },
  {
   "cell_type": "code",
   "execution_count": 174,
   "id": "6aa39177-b153-4c2f-9daa-79435f2cf250",
   "metadata": {},
   "outputs": [],
   "source": [
    "import nltk\n",
    "from nltk.sentiment.vader import SentimentIntensityAnalyzer\n",
    "\n"
   ]
  },
  {
   "cell_type": "code",
   "execution_count": 175,
   "id": "dcf417be-ea70-441f-9915-532604522d2d",
   "metadata": {},
   "outputs": [
    {
     "name": "stderr",
     "output_type": "stream",
     "text": [
      "[nltk_data] Downloading package vader_lexicon to\n",
      "[nltk_data]     /home/oscar/nltk_data...\n"
     ]
    },
    {
     "data": {
      "text/plain": [
       "True"
      ]
     },
     "execution_count": 175,
     "metadata": {},
     "output_type": "execute_result"
    }
   ],
   "source": [
    "nltk.download(\"vader_lexicon\")"
   ]
  },
  {
   "cell_type": "code",
   "execution_count": 198,
   "id": "94f4c123-22f6-42f9-a83b-ed1845cd02b3",
   "metadata": {},
   "outputs": [
    {
     "name": "stdout",
     "output_type": "stream",
     "text": [
      "Sentiment is Negative and the score is -0.5423\n",
      "The sentence is \"Amazon stock drops 10% after allegations of worker abuse\"\n"
     ]
    }
   ],
   "source": [
    "analyzer = SentimentIntensityAnalyzer()\n",
    "test = 13\n",
    "bruh = list(arr.keys())[test]\n",
    "outstr = bruh + \" \" + arr[bruh]['blurb']\n",
    "outstr = \"Amazon stock drops 10% after allegations of worker abuse\"\n",
    "sentiment_scores = analyzer.polarity_scores(outstr)\n",
    "\n",
    "if sentiment_scores['compound'] >= 0.05:\n",
    "    sentiment = \"Positive\"\n",
    "elif sentiment_scores['compound'] <= -0.05:\n",
    "    sentiment = \"Negative\"\n",
    "else:\n",
    "    sentiment = \"Neutral\"\n",
    "\n",
    "print(f'Sentiment is {sentiment} and the score is {sentiment_scores[\"compound\"]}')\n",
    "print(f'The sentence is \"{outstr}\"')\n",
    "\n",
    "\n"
   ]
  },
  {
   "cell_type": "code",
   "execution_count": null,
   "id": "2f6317b5-d166-4942-b71a-a6dcd5556d7e",
   "metadata": {},
   "outputs": [],
   "source": []
  },
  {
   "cell_type": "code",
   "execution_count": null,
   "id": "e9509278-8897-449e-adbb-b9cda9a7c3b5",
   "metadata": {},
   "outputs": [],
   "source": []
  }
 ],
 "metadata": {
  "kernelspec": {
   "display_name": "Python 3 (ipykernel)",
   "language": "python",
   "name": "python3"
  },
  "language_info": {
   "codemirror_mode": {
    "name": "ipython",
    "version": 3
   },
   "file_extension": ".py",
   "mimetype": "text/x-python",
   "name": "python",
   "nbconvert_exporter": "python",
   "pygments_lexer": "ipython3",
   "version": "3.11.5"
  }
 },
 "nbformat": 4,
 "nbformat_minor": 5
}
